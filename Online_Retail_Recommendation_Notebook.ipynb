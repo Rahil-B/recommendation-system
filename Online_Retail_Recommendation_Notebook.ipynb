{
  "cells": [
    {
      "cell_type": "code",
      "execution_count": 1,
      "metadata": {},
      "outputs": [],
      "source": [
        "# !pip install numpy==1.26.4\n",
        "# !pip install scikit-surprise\n",
        "# !pip install pandas"
      ]
    },
    {
      "cell_type": "code",
      "execution_count": 2,
      "metadata": {},
      "outputs": [],
      "source": [
        "import warnings\n",
        "# Suppress DeprecationWarning\n",
        "warnings.filterwarnings(\"ignore\", category=DeprecationWarning)"
      ]
    },
    {
      "cell_type": "code",
      "execution_count": 3,
      "metadata": {
        "id": "g5cBKF9UxVt3"
      },
      "outputs": [],
      "source": [
        "import pandas as pd\n",
        "import datetime\n",
        "from matplotlib import pyplot as plt\n",
        "import seaborn as sns\n",
        "from sklearn.feature_extraction.text import TfidfVectorizer\n",
        "from sklearn.metrics.pairwise import linear_kernel\n",
        "from surprise import Dataset, Reader\n",
        "from surprise.model_selection import train_test_split\n",
        "from surprise import KNNBasic\n",
        "from surprise import accuracy\n",
        "from collections import defaultdict"
      ]
    },
    {
      "cell_type": "markdown",
      "metadata": {
        "id": "spFktN4ulpBC"
      },
      "source": [
        "## Loading Dataset"
      ]
    },
    {
      "cell_type": "code",
      "execution_count": 4,
      "metadata": {
        "id": "2b5fQcEsMrPD"
      },
      "outputs": [],
      "source": [
        "data_path = '/Users/rahil/Documents/Online_Retail_Recommendation_Project/data/'\n",
        "# Read product data\n",
        "products_df = pd.read_csv(data_path+'prod_cat_info.csv')\n",
        "# Read customer profiles\n",
        "customers_df = pd.read_csv(data_path+'Customer.csv')\n",
        "# Read Transactions history\n",
        "Transactions_df = pd.read_csv(data_path+'Transactions.csv')"
      ]
    },
    {
      "cell_type": "markdown",
      "metadata": {},
      "source": [
        "# EDA and Preprocessing"
      ]
    },
    {
      "cell_type": "code",
      "execution_count": 5,
      "metadata": {
        "colab": {
          "base_uri": "https://localhost:8080/",
          "height": 762
        },
        "id": "q-cR0ISIMrd_",
        "outputId": "2f0e023e-1fdb-488e-b1b9-150a6824a062"
      },
      "outputs": [
        {
          "name": "stdout",
          "output_type": "stream",
          "text": [
            "   prod_cat_code  prod_cat  prod_sub_cat_code prod_subcat\n",
            "0              1  Clothing                  4        Mens\n",
            "1              1  Clothing                  1       Women\n",
            "2              1  Clothing                  3        Kids\n",
            "3              2  Footwear                  1        Mens\n",
            "4              2  Footwear                  3       Women\n",
            "<class 'pandas.core.frame.DataFrame'>\n",
            "RangeIndex: 23 entries, 0 to 22\n",
            "Data columns (total 4 columns):\n",
            " #   Column             Non-Null Count  Dtype \n",
            "---  ------             --------------  ----- \n",
            " 0   prod_cat_code      23 non-null     int64 \n",
            " 1   prod_cat           23 non-null     object\n",
            " 2   prod_sub_cat_code  23 non-null     int64 \n",
            " 3   prod_subcat        23 non-null     object\n",
            "dtypes: int64(2), object(2)\n",
            "memory usage: 864.0+ bytes\n",
            "None\n",
            "       prod_cat_code  prod_sub_cat_code\n",
            "count      23.000000          23.000000\n",
            "mean        3.739130           6.130435\n",
            "std         1.711389           3.805550\n",
            "min         1.000000           1.000000\n",
            "25%         2.500000           3.000000\n",
            "50%         4.000000           5.000000\n",
            "75%         5.000000          10.000000\n",
            "max         6.000000          12.000000\n"
          ]
        }
      ],
      "source": [
        "print(products_df.head())\n",
        "print(products_df.info())\n",
        "print(products_df.describe())"
      ]
    },
    {
      "cell_type": "code",
      "execution_count": 6,
      "metadata": {
        "colab": {
          "base_uri": "https://localhost:8080/",
          "height": 719
        },
        "id": "BLoqcd-3gToN",
        "outputId": "3f025e89-3b23-4134-c196-0cd418679fe1"
      },
      "outputs": [
        {
          "name": "stderr",
          "output_type": "stream",
          "text": [
            "/var/folders/7w/kcxvdv_n14n3rmr6yf1fp8m00000gn/T/ipykernel_73792/1029994534.py:3: FutureWarning: \n",
            "\n",
            "Passing `palette` without assigning `hue` is deprecated and will be removed in v0.14.0. Assign the `y` variable to `hue` and set `legend=False` for the same effect.\n",
            "\n",
            "  sns.violinplot(products_df, x='prod_sub_cat_code', y='prod_cat', inner='stick', palette='Dark2')\n"
          ]
        },
        {
          "data": {
            "image/png": "[encoded data removed]",
            "text/plain": [
              "<Figure size 1200x720 with 1 Axes>"
            ]
          },
          "metadata": {},
          "output_type": "display_data"
        }
      ],
      "source": [
        "figsize = (12, 1.2 * len(products_df['prod_cat'].unique()))\n",
        "plt.figure(figsize=figsize)\n",
        "sns.violinplot(products_df, x='prod_sub_cat_code', y='prod_cat', inner='stick', palette='Dark2')\n",
        "sns.despine(top=True, right=True, bottom=True, left=True)"
      ]
    },
    {
      "cell_type": "code",
      "execution_count": 7,
      "metadata": {},
      "outputs": [
        {
          "data": {
            "text/plain": [
              "prod_cat\n",
              "Bags                2\n",
              "Books               6\n",
              "Clothing            3\n",
              "Electronics         5\n",
              "Footwear            3\n",
              "Home and kitchen    4\n",
              "dtype: int64"
            ]
          },
          "execution_count": 7,
          "metadata": {},
          "output_type": "execute_result"
        }
      ],
      "source": [
        "products_df.groupby('prod_cat').size()"
      ]
    },
    {
      "cell_type": "code",
      "execution_count": 8,
      "metadata": {
        "colab": {
          "base_uri": "https://localhost:8080/",
          "height": 430
        },
        "id": "sOiUtqh3f1rN",
        "outputId": "3db5fdd3-17c4-41d2-e8db-1fae05356a6b"
      },
      "outputs": [
        {
          "data": {
            "image/png": "[encoded data removed]",
            "text/plain": [
              "<Figure size 640x480 with 1 Axes>"
            ]
          },
          "metadata": {},
          "output_type": "display_data"
        }
      ],
      "source": [
        "products_df.groupby('prod_cat').size().plot(kind='barh', color=sns.palettes.mpl_palette('Dark2'))\n",
        "plt.gca().spines[['top', 'right',]].set_visible(False)"
      ]
    },
    {
      "cell_type": "code",
      "execution_count": 9,
      "metadata": {
        "colab": {
          "base_uri": "https://localhost:8080/",
          "height": 419
        },
        "id": "xugPP-ogMrg-",
        "outputId": "ab305bcd-e45c-4888-df5e-4d8e7fffa98c"
      },
      "outputs": [
        {
          "name": "stdout",
          "output_type": "stream",
          "text": [
            "   customer_Id         DOB Gender  city_code\n",
            "0       268408  02-01-1970      M        4.0\n",
            "1       269696  07-01-1970      F        8.0\n",
            "2       268159  08-01-1970      F        8.0\n",
            "3       270181  10-01-1970      F        2.0\n",
            "4       268073  11-01-1970      M        1.0\n",
            "null value summary\n",
            "customer_Id    0.000000\n",
            "DOB            0.000000\n",
            "Gender         0.035417\n",
            "city_code      0.035417\n",
            "dtype: float64\n"
          ]
        }
      ],
      "source": [
        "print(customers_df.head())\n",
        "print(\"null value summary\")\n",
        "print(customers_df.isnull().sum()/len(customers_df)*100)\n",
        "# customer_Id    0.000000\n",
        "# DOB            0.000000\n",
        "# Gender         0.035417\n",
        "# city_code      0.035417\n",
        "# dtype: float64"
      ]
    },
    {
      "cell_type": "markdown",
      "metadata": {
        "id": "ec7fKtsmmtwF"
      },
      "source": [
        "## **Checking and handling missing values**"
      ]
    },
    {
      "cell_type": "code",
      "execution_count": 10,
      "metadata": {
        "id": "iULgcazKxL76"
      },
      "outputs": [],
      "source": [
        "# Handle missing values in the 'Gender' column\n",
        "customers_df['Gender'] = customers_df['Gender'].fillna(customers_df['Gender'].mode()[0])\n",
        "\n",
        "# Handle missing values in the 'city_code' column\n",
        "customers_df['city_code'] = customers_df['city_code'].fillna(customers_df['city_code'].mean())"
      ]
    },
    {
      "cell_type": "code",
      "execution_count": 11,
      "metadata": {
        "colab": {
          "base_uri": "https://localhost:8080/",
          "height": 207
        },
        "id": "kLGJwQcPzwNL",
        "outputId": "5f39bde1-cb8a-4649-ed4d-cdad72c65a59"
      },
      "outputs": [
        {
          "data": {
            "text/plain": [
              "customer_Id    0.0\n",
              "DOB            0.0\n",
              "Gender         0.0\n",
              "city_code      0.0\n",
              "dtype: float64"
            ]
          },
          "execution_count": 11,
          "metadata": {},
          "output_type": "execute_result"
        }
      ],
      "source": [
        "customers_df.isnull().sum()/len(customers_df)*100"
      ]
    },
    {
      "cell_type": "code",
      "execution_count": 44,
      "metadata": {
        "colab": {
          "base_uri": "https://localhost:8080/"
        },
        "id": "lIvZ1gdMzy3w",
        "outputId": "de26dfb4-2f4a-4265-b883-c7111a673410"
      },
      "outputs": [
        {
          "name": "stdout",
          "output_type": "stream",
          "text": [
            "<class 'pandas.core.frame.DataFrame'>\n",
            "RangeIndex: 5647 entries, 0 to 5646\n",
            "Data columns (total 5 columns):\n",
            " #   Column     Non-Null Count  Dtype         \n",
            "---  ------     --------------  -----         \n",
            " 0   cust_id    5647 non-null   int64         \n",
            " 1   DOB        5647 non-null   datetime64[ns]\n",
            " 2   Gender     5647 non-null   object        \n",
            " 3   city_code  5647 non-null   float64       \n",
            " 4   Age        5647 non-null   int64         \n",
            "dtypes: datetime64[ns](1), float64(1), int64(2), object(1)\n",
            "memory usage: 220.7+ KB\n",
            "None\n",
            "________________________________________________________________________________\n",
            "             cust_id                            DOB    city_code          Age\n",
            "count    5647.000000                           5647  5647.000000  5647.000000\n",
            "mean   271037.281034  1981-07-23 18:17:01.285638400     5.472631    42.980344\n",
            "min    266783.000000            1970-01-02 00:00:00     1.000000    32.000000\n",
            "25%    268912.000000            1975-10-19 00:00:00     3.000000    37.000000\n",
            "50%    271028.000000            1981-07-13 00:00:00     5.000000    43.000000\n",
            "75%    273180.000000            1987-06-06 00:00:00     8.000000    49.000000\n",
            "max    275265.000000            1992-12-29 00:00:00    10.000000    55.000000\n",
            "std      2451.261711                            NaN     2.859412     6.620298\n"
          ]
        }
      ],
      "source": [
        "print(customers_df.info())\n",
        "print(\"_\"*80)\n",
        "print(customers_df.describe())\n",
        "# \tcustomer_Id\tcity_code\n",
        "# count\t5647.000000\t5647.000000\n",
        "# mean\t271037.281034\t5.472631\n",
        "# std\t2451.261711\t2.859412\n",
        "# min\t266783.000000\t1.000000\n",
        "# 25%\t268912.000000\t3.000000\n",
        "# 50%\t271028.000000\t5.000000\n",
        "# 75%\t273180.000000\t8.000000\n",
        "# max\t275265.000000\t10.000000"
      ]
    },
    {
      "cell_type": "code",
      "execution_count": 13,
      "metadata": {
        "colab": {
          "base_uri": "https://localhost:8080/",
          "height": 452
        },
        "id": "Ph9yhPrueNEH",
        "outputId": "771af608-198e-491d-861c-00de16936f10"
      },
      "outputs": [
        {
          "data": {
            "image/png": "[encoded data removed]",
            "text/plain": [
              "<Figure size 640x480 with 1 Axes>"
            ]
          },
          "metadata": {},
          "output_type": "display_data"
        }
      ],
      "source": [
        "from matplotlib import pyplot as plt\n",
        "customers_df['city_code'].plot(kind='hist', bins=20, title='city_code')\n",
        "plt.gca().spines[['top', 'right',]].set_visible(False)"
      ]
    },
    {
      "cell_type": "code",
      "execution_count": 14,
      "metadata": {
        "colab": {
          "base_uri": "https://localhost:8080/",
          "height": 430
        },
        "id": "w5dOtTWfdpr2",
        "outputId": "669661a8-514c-499b-bf6d-5d50af217732"
      },
      "outputs": [
        {
          "data": {
            "image/png": "[encoded data removed]",
            "text/plain": [
              "<Figure size 640x480 with 1 Axes>"
            ]
          },
          "metadata": {},
          "output_type": "display_data"
        }
      ],
      "source": [
        "from matplotlib import pyplot as plt\n",
        "import seaborn as sns\n",
        "customers_df.groupby('Gender').size().plot(kind='barh', color=sns.palettes.mpl_palette('Dark2'))\n",
        "plt.gca().spines[['top', 'right',]].set_visible(False)"
      ]
    },
    {
      "cell_type": "code",
      "execution_count": 15,
      "metadata": {
        "colab": {
          "base_uri": "https://localhost:8080/",
          "height": 204
        },
        "id": "ginDyD6pzs5a",
        "outputId": "929b88f3-9d6c-4635-d9aa-721380b08a46"
      },
      "outputs": [
        {
          "data": {
            "text/html": [
              "<div>\n",
              "<style scoped>\n",
              "    .dataframe tbody tr th:only-of-type {\n",
              "        vertical-align: middle;\n",
              "    }\n",
              "\n",
              "    .dataframe tbody tr th {\n",
              "        vertical-align: top;\n",
              "    }\n",
              "\n",
              "    .dataframe thead th {\n",
              "        text-align: right;\n",
              "    }\n",
              "</style>\n",
              "<table border=\"1\" class=\"dataframe\">\n",
              "  <thead>\n",
              "    <tr style=\"text-align: right;\">\n",
              "      <th></th>\n",
              "      <th>customer_Id</th>\n",
              "      <th>DOB</th>\n",
              "      <th>Gender</th>\n",
              "      <th>city_code</th>\n",
              "    </tr>\n",
              "  </thead>\n",
              "  <tbody>\n",
              "    <tr>\n",
              "      <th>0</th>\n",
              "      <td>268408</td>\n",
              "      <td>02-01-1970</td>\n",
              "      <td>M</td>\n",
              "      <td>4.0</td>\n",
              "    </tr>\n",
              "    <tr>\n",
              "      <th>1</th>\n",
              "      <td>269696</td>\n",
              "      <td>07-01-1970</td>\n",
              "      <td>F</td>\n",
              "      <td>8.0</td>\n",
              "    </tr>\n",
              "    <tr>\n",
              "      <th>2</th>\n",
              "      <td>268159</td>\n",
              "      <td>08-01-1970</td>\n",
              "      <td>F</td>\n",
              "      <td>8.0</td>\n",
              "    </tr>\n",
              "    <tr>\n",
              "      <th>3</th>\n",
              "      <td>270181</td>\n",
              "      <td>10-01-1970</td>\n",
              "      <td>F</td>\n",
              "      <td>2.0</td>\n",
              "    </tr>\n",
              "    <tr>\n",
              "      <th>4</th>\n",
              "      <td>268073</td>\n",
              "      <td>11-01-1970</td>\n",
              "      <td>M</td>\n",
              "      <td>1.0</td>\n",
              "    </tr>\n",
              "  </tbody>\n",
              "</table>\n",
              "</div>"
            ],
            "text/plain": [
              "   customer_Id         DOB Gender  city_code\n",
              "0       268408  02-01-1970      M        4.0\n",
              "1       269696  07-01-1970      F        8.0\n",
              "2       268159  08-01-1970      F        8.0\n",
              "3       270181  10-01-1970      F        2.0\n",
              "4       268073  11-01-1970      M        1.0"
            ]
          },
          "execution_count": 15,
          "metadata": {},
          "output_type": "execute_result"
        }
      ],
      "source": [
        "customers_df.head()"
      ]
    },
    {
      "cell_type": "code",
      "execution_count": 37,
      "metadata": {
        "id": "7e2SxoP40Ra0"
      },
      "outputs": [],
      "source": []
    },
    {
      "cell_type": "code",
      "execution_count": 16,
      "metadata": {
        "id": "p4YXEnHu1fCs"
      },
      "outputs": [
        {
          "name": "stdout",
          "output_type": "stream",
          "text": [
            "<class 'pandas.core.frame.DataFrame'>\n",
            "RangeIndex: 5647 entries, 0 to 5646\n",
            "Data columns (total 4 columns):\n",
            " #   Column       Non-Null Count  Dtype         \n",
            "---  ------       --------------  -----         \n",
            " 0   customer_Id  5647 non-null   int64         \n",
            " 1   DOB          5647 non-null   datetime64[ns]\n",
            " 2   Gender       5647 non-null   object        \n",
            " 3   city_code    5647 non-null   float64       \n",
            "dtypes: datetime64[ns](1), float64(1), int64(1), object(1)\n",
            "memory usage: 176.6+ KB\n"
          ]
        }
      ],
      "source": [
        "# converting DOB to datetime\n",
        "customers_df['DOB'] = pd.to_datetime(customers_df['DOB'], format=\"%d-%m-%Y\")\n",
        "customers_df.info()\n",
        "\n",
        "# Calculating Age of customers\n",
        "customers_df['DOB'] = pd.to_datetime(customers_df['DOB'], format=\"%d-%m-%Y\")\n",
        "customers_df['Current_date'] = datetime.datetime.now()\n",
        "customers_df['Age'] = (customers_df['Current_date'] - customers_df['DOB']).dt.days // 365\n",
        "customers_df.drop('Current_date', axis=1, inplace=True)\n",
        "customers_df['Age'].value_counts()\n",
        "\n",
        "# Renaming columns\n",
        "Transactions_df.rename(columns={'prod_subcat_code': 'prod_sub_cat_code'}, inplace=True)\n",
        "customers_df.rename(columns={'customer_Id': 'cust_id'}, inplace=True)\n",
        "\n",
        "# Converting gender labels ['M', 'F'] ->  ['Male', 'Female']\n",
        "customers_df['Gender'] = customers_df['Gender'].replace(['M', 'F'], ['Male', 'Female'])"
      ]
    },
    {
      "cell_type": "code",
      "execution_count": 17,
      "metadata": {
        "colab": {
          "base_uri": "https://localhost:8080/",
          "height": 419
        },
        "id": "iazn7E_81fMk",
        "outputId": "cb11f436-53e9-45c9-ea68-fde341858959"
      },
      "outputs": [
        {
          "data": {
            "text/html": [
              "<div>\n",
              "<style scoped>\n",
              "    .dataframe tbody tr th:only-of-type {\n",
              "        vertical-align: middle;\n",
              "    }\n",
              "\n",
              "    .dataframe tbody tr th {\n",
              "        vertical-align: top;\n",
              "    }\n",
              "\n",
              "    .dataframe thead th {\n",
              "        text-align: right;\n",
              "    }\n",
              "</style>\n",
              "<table border=\"1\" class=\"dataframe\">\n",
              "  <thead>\n",
              "    <tr style=\"text-align: right;\">\n",
              "      <th></th>\n",
              "      <th>cust_id</th>\n",
              "      <th>DOB</th>\n",
              "      <th>Gender</th>\n",
              "      <th>city_code</th>\n",
              "      <th>Age</th>\n",
              "    </tr>\n",
              "  </thead>\n",
              "  <tbody>\n",
              "    <tr>\n",
              "      <th>0</th>\n",
              "      <td>268408</td>\n",
              "      <td>1970-01-02</td>\n",
              "      <td>Male</td>\n",
              "      <td>4.0</td>\n",
              "      <td>55</td>\n",
              "    </tr>\n",
              "    <tr>\n",
              "      <th>1</th>\n",
              "      <td>269696</td>\n",
              "      <td>1970-01-07</td>\n",
              "      <td>Female</td>\n",
              "      <td>8.0</td>\n",
              "      <td>55</td>\n",
              "    </tr>\n",
              "    <tr>\n",
              "      <th>2</th>\n",
              "      <td>268159</td>\n",
              "      <td>1970-01-08</td>\n",
              "      <td>Female</td>\n",
              "      <td>8.0</td>\n",
              "      <td>55</td>\n",
              "    </tr>\n",
              "    <tr>\n",
              "      <th>3</th>\n",
              "      <td>270181</td>\n",
              "      <td>1970-01-10</td>\n",
              "      <td>Female</td>\n",
              "      <td>2.0</td>\n",
              "      <td>55</td>\n",
              "    </tr>\n",
              "    <tr>\n",
              "      <th>4</th>\n",
              "      <td>268073</td>\n",
              "      <td>1970-01-11</td>\n",
              "      <td>Male</td>\n",
              "      <td>1.0</td>\n",
              "      <td>55</td>\n",
              "    </tr>\n",
              "  </tbody>\n",
              "</table>\n",
              "</div>"
            ],
            "text/plain": [
              "   cust_id        DOB  Gender  city_code  Age\n",
              "0   268408 1970-01-02    Male        4.0   55\n",
              "1   269696 1970-01-07  Female        8.0   55\n",
              "2   268159 1970-01-08  Female        8.0   55\n",
              "3   270181 1970-01-10  Female        2.0   55\n",
              "4   268073 1970-01-11    Male        1.0   55"
            ]
          },
          "execution_count": 17,
          "metadata": {},
          "output_type": "execute_result"
        }
      ],
      "source": [
        "customers_df.head()"
      ]
    },
    {
      "cell_type": "code",
      "execution_count": 18,
      "metadata": {
        "id": "aRa0a5sLjf0h"
      },
      "outputs": [],
      "source": [
        "prod_cat_mapping = dict(zip(products_df['prod_cat_code'], products_df['prod_cat']))\n",
        "\n",
        "Transactions_df['prod_cat'] = Transactions_df['prod_cat_code'].map(prod_cat_mapping)\n",
        "\n",
        "prod_subcat_mapping = dict(zip(products_df['prod_sub_cat_code'], products_df['prod_subcat']))\n",
        "\n",
        "Transactions_df['prod_subcat'] = Transactions_df['prod_sub_cat_code'].map(prod_subcat_mapping)"
      ]
    },
    {
      "cell_type": "code",
      "execution_count": 19,
      "metadata": {
        "colab": {
          "base_uri": "https://localhost:8080/",
          "height": 419
        },
        "id": "1wpoNkFtkbkH",
        "outputId": "e7ecb9d3-8f29-444b-d29a-7a87b9d37ff3"
      },
      "outputs": [
        {
          "data": {
            "text/html": [
              "<div>\n",
              "<style scoped>\n",
              "    .dataframe tbody tr th:only-of-type {\n",
              "        vertical-align: middle;\n",
              "    }\n",
              "\n",
              "    .dataframe tbody tr th {\n",
              "        vertical-align: top;\n",
              "    }\n",
              "\n",
              "    .dataframe thead th {\n",
              "        text-align: right;\n",
              "    }\n",
              "</style>\n",
              "<table border=\"1\" class=\"dataframe\">\n",
              "  <thead>\n",
              "    <tr style=\"text-align: right;\">\n",
              "      <th></th>\n",
              "      <th>transaction_id</th>\n",
              "      <th>cust_id</th>\n",
              "      <th>tran_date</th>\n",
              "      <th>prod_sub_cat_code</th>\n",
              "      <th>prod_cat_code</th>\n",
              "      <th>Qty</th>\n",
              "      <th>Rate</th>\n",
              "      <th>Tax</th>\n",
              "      <th>total_amt</th>\n",
              "      <th>Store_type</th>\n",
              "      <th>prod_cat</th>\n",
              "      <th>prod_subcat</th>\n",
              "    </tr>\n",
              "  </thead>\n",
              "  <tbody>\n",
              "    <tr>\n",
              "      <th>0</th>\n",
              "      <td>80712190438</td>\n",
              "      <td>270351</td>\n",
              "      <td>28-02-2014</td>\n",
              "      <td>1</td>\n",
              "      <td>1</td>\n",
              "      <td>-5</td>\n",
              "      <td>-772</td>\n",
              "      <td>405.300</td>\n",
              "      <td>-4265.300</td>\n",
              "      <td>e-Shop</td>\n",
              "      <td>Clothing</td>\n",
              "      <td>Mens</td>\n",
              "    </tr>\n",
              "    <tr>\n",
              "      <th>1</th>\n",
              "      <td>29258453508</td>\n",
              "      <td>270384</td>\n",
              "      <td>27-02-2014</td>\n",
              "      <td>5</td>\n",
              "      <td>3</td>\n",
              "      <td>-5</td>\n",
              "      <td>-1497</td>\n",
              "      <td>785.925</td>\n",
              "      <td>-8270.925</td>\n",
              "      <td>e-Shop</td>\n",
              "      <td>Electronics</td>\n",
              "      <td>Computers</td>\n",
              "    </tr>\n",
              "    <tr>\n",
              "      <th>2</th>\n",
              "      <td>51750724947</td>\n",
              "      <td>273420</td>\n",
              "      <td>24-02-2014</td>\n",
              "      <td>6</td>\n",
              "      <td>5</td>\n",
              "      <td>-2</td>\n",
              "      <td>-791</td>\n",
              "      <td>166.110</td>\n",
              "      <td>-1748.110</td>\n",
              "      <td>TeleShop</td>\n",
              "      <td>Books</td>\n",
              "      <td>DIY</td>\n",
              "    </tr>\n",
              "    <tr>\n",
              "      <th>3</th>\n",
              "      <td>93274880719</td>\n",
              "      <td>271509</td>\n",
              "      <td>24-02-2014</td>\n",
              "      <td>11</td>\n",
              "      <td>6</td>\n",
              "      <td>-3</td>\n",
              "      <td>-1363</td>\n",
              "      <td>429.345</td>\n",
              "      <td>-4518.345</td>\n",
              "      <td>e-Shop</td>\n",
              "      <td>Home and kitchen</td>\n",
              "      <td>Bath</td>\n",
              "    </tr>\n",
              "    <tr>\n",
              "      <th>4</th>\n",
              "      <td>51750724947</td>\n",
              "      <td>273420</td>\n",
              "      <td>23-02-2014</td>\n",
              "      <td>6</td>\n",
              "      <td>5</td>\n",
              "      <td>-2</td>\n",
              "      <td>-791</td>\n",
              "      <td>166.110</td>\n",
              "      <td>-1748.110</td>\n",
              "      <td>TeleShop</td>\n",
              "      <td>Books</td>\n",
              "      <td>DIY</td>\n",
              "    </tr>\n",
              "  </tbody>\n",
              "</table>\n",
              "</div>"
            ],
            "text/plain": [
              "   transaction_id  cust_id   tran_date  prod_sub_cat_code  prod_cat_code  Qty  \\\n",
              "0     80712190438   270351  28-02-2014                  1              1   -5   \n",
              "1     29258453508   270384  27-02-2014                  5              3   -5   \n",
              "2     51750724947   273420  24-02-2014                  6              5   -2   \n",
              "3     93274880719   271509  24-02-2014                 11              6   -3   \n",
              "4     51750724947   273420  23-02-2014                  6              5   -2   \n",
              "\n",
              "   Rate      Tax  total_amt Store_type          prod_cat prod_subcat  \n",
              "0  -772  405.300  -4265.300     e-Shop          Clothing        Mens  \n",
              "1 -1497  785.925  -8270.925     e-Shop       Electronics   Computers  \n",
              "2  -791  166.110  -1748.110   TeleShop             Books         DIY  \n",
              "3 -1363  429.345  -4518.345     e-Shop  Home and kitchen        Bath  \n",
              "4  -791  166.110  -1748.110   TeleShop             Books         DIY  "
            ]
          },
          "execution_count": 19,
          "metadata": {},
          "output_type": "execute_result"
        }
      ],
      "source": [
        "Transactions_df.head()"
      ]
    },
    {
      "cell_type": "code",
      "execution_count": 20,
      "metadata": {
        "colab": {
          "base_uri": "https://localhost:8080/",
          "height": 419
        },
        "id": "QlefrqvOrJKh",
        "outputId": "18e7e68b-31fb-4a95-c400-82fe5ea2b0af"
      },
      "outputs": [
        {
          "data": {
            "text/html": [
              "<div>\n",
              "<style scoped>\n",
              "    .dataframe tbody tr th:only-of-type {\n",
              "        vertical-align: middle;\n",
              "    }\n",
              "\n",
              "    .dataframe tbody tr th {\n",
              "        vertical-align: top;\n",
              "    }\n",
              "\n",
              "    .dataframe thead th {\n",
              "        text-align: right;\n",
              "    }\n",
              "</style>\n",
              "<table border=\"1\" class=\"dataframe\">\n",
              "  <thead>\n",
              "    <tr style=\"text-align: right;\">\n",
              "      <th></th>\n",
              "      <th>transaction_id</th>\n",
              "      <th>cust_id</th>\n",
              "      <th>tran_date</th>\n",
              "      <th>prod_sub_cat_code</th>\n",
              "      <th>prod_cat_code</th>\n",
              "      <th>Qty</th>\n",
              "      <th>Rate</th>\n",
              "      <th>Tax</th>\n",
              "      <th>total_amt</th>\n",
              "      <th>Store_type</th>\n",
              "      <th>prod_cat</th>\n",
              "      <th>prod_subcat</th>\n",
              "      <th>prod_cat_subcat</th>\n",
              "    </tr>\n",
              "  </thead>\n",
              "  <tbody>\n",
              "    <tr>\n",
              "      <th>0</th>\n",
              "      <td>80712190438</td>\n",
              "      <td>270351</td>\n",
              "      <td>28-02-2014</td>\n",
              "      <td>1</td>\n",
              "      <td>1</td>\n",
              "      <td>-5</td>\n",
              "      <td>-772</td>\n",
              "      <td>405.300</td>\n",
              "      <td>-4265.300</td>\n",
              "      <td>e-Shop</td>\n",
              "      <td>Clothing</td>\n",
              "      <td>Mens</td>\n",
              "      <td>Clothing Mens</td>\n",
              "    </tr>\n",
              "    <tr>\n",
              "      <th>1</th>\n",
              "      <td>29258453508</td>\n",
              "      <td>270384</td>\n",
              "      <td>27-02-2014</td>\n",
              "      <td>5</td>\n",
              "      <td>3</td>\n",
              "      <td>-5</td>\n",
              "      <td>-1497</td>\n",
              "      <td>785.925</td>\n",
              "      <td>-8270.925</td>\n",
              "      <td>e-Shop</td>\n",
              "      <td>Electronics</td>\n",
              "      <td>Computers</td>\n",
              "      <td>Electronics Computers</td>\n",
              "    </tr>\n",
              "    <tr>\n",
              "      <th>2</th>\n",
              "      <td>51750724947</td>\n",
              "      <td>273420</td>\n",
              "      <td>24-02-2014</td>\n",
              "      <td>6</td>\n",
              "      <td>5</td>\n",
              "      <td>-2</td>\n",
              "      <td>-791</td>\n",
              "      <td>166.110</td>\n",
              "      <td>-1748.110</td>\n",
              "      <td>TeleShop</td>\n",
              "      <td>Books</td>\n",
              "      <td>DIY</td>\n",
              "      <td>Books DIY</td>\n",
              "    </tr>\n",
              "    <tr>\n",
              "      <th>3</th>\n",
              "      <td>93274880719</td>\n",
              "      <td>271509</td>\n",
              "      <td>24-02-2014</td>\n",
              "      <td>11</td>\n",
              "      <td>6</td>\n",
              "      <td>-3</td>\n",
              "      <td>-1363</td>\n",
              "      <td>429.345</td>\n",
              "      <td>-4518.345</td>\n",
              "      <td>e-Shop</td>\n",
              "      <td>Home and kitchen</td>\n",
              "      <td>Bath</td>\n",
              "      <td>Home and kitchen Bath</td>\n",
              "    </tr>\n",
              "    <tr>\n",
              "      <th>4</th>\n",
              "      <td>51750724947</td>\n",
              "      <td>273420</td>\n",
              "      <td>23-02-2014</td>\n",
              "      <td>6</td>\n",
              "      <td>5</td>\n",
              "      <td>-2</td>\n",
              "      <td>-791</td>\n",
              "      <td>166.110</td>\n",
              "      <td>-1748.110</td>\n",
              "      <td>TeleShop</td>\n",
              "      <td>Books</td>\n",
              "      <td>DIY</td>\n",
              "      <td>Books DIY</td>\n",
              "    </tr>\n",
              "  </tbody>\n",
              "</table>\n",
              "</div>"
            ],
            "text/plain": [
              "   transaction_id  cust_id   tran_date  prod_sub_cat_code  prod_cat_code  Qty  \\\n",
              "0     80712190438   270351  28-02-2014                  1              1   -5   \n",
              "1     29258453508   270384  27-02-2014                  5              3   -5   \n",
              "2     51750724947   273420  24-02-2014                  6              5   -2   \n",
              "3     93274880719   271509  24-02-2014                 11              6   -3   \n",
              "4     51750724947   273420  23-02-2014                  6              5   -2   \n",
              "\n",
              "   Rate      Tax  total_amt Store_type          prod_cat prod_subcat  \\\n",
              "0  -772  405.300  -4265.300     e-Shop          Clothing        Mens   \n",
              "1 -1497  785.925  -8270.925     e-Shop       Electronics   Computers   \n",
              "2  -791  166.110  -1748.110   TeleShop             Books         DIY   \n",
              "3 -1363  429.345  -4518.345     e-Shop  Home and kitchen        Bath   \n",
              "4  -791  166.110  -1748.110   TeleShop             Books         DIY   \n",
              "\n",
              "         prod_cat_subcat  \n",
              "0          Clothing Mens  \n",
              "1  Electronics Computers  \n",
              "2              Books DIY  \n",
              "3  Home and kitchen Bath  \n",
              "4              Books DIY  "
            ]
          },
          "execution_count": 20,
          "metadata": {},
          "output_type": "execute_result"
        }
      ],
      "source": [
        "# concating category and subcategory\n",
        "Transactions_df['prod_cat_subcat'] = Transactions_df['prod_cat'] + ' ' + Transactions_df['prod_subcat']\n",
        "Transactions_df.head()"
      ]
    },
    {
      "cell_type": "code",
      "execution_count": 21,
      "metadata": {
        "colab": {
          "base_uri": "https://localhost:8080/",
          "height": 297
        },
        "id": "Kx1TLl682NmR",
        "outputId": "3d98bc53-c9cc-4c65-cce1-4247864215c8"
      },
      "outputs": [
        {
          "data": {
            "text/html": [
              "<div>\n",
              "<style scoped>\n",
              "    .dataframe tbody tr th:only-of-type {\n",
              "        vertical-align: middle;\n",
              "    }\n",
              "\n",
              "    .dataframe tbody tr th {\n",
              "        vertical-align: top;\n",
              "    }\n",
              "\n",
              "    .dataframe thead th {\n",
              "        text-align: right;\n",
              "    }\n",
              "</style>\n",
              "<table border=\"1\" class=\"dataframe\">\n",
              "  <thead>\n",
              "    <tr style=\"text-align: right;\">\n",
              "      <th></th>\n",
              "      <th>transaction_id</th>\n",
              "      <th>cust_id</th>\n",
              "      <th>prod_sub_cat_code</th>\n",
              "      <th>prod_cat_code</th>\n",
              "      <th>Qty</th>\n",
              "      <th>Rate</th>\n",
              "      <th>Tax</th>\n",
              "      <th>total_amt</th>\n",
              "    </tr>\n",
              "  </thead>\n",
              "  <tbody>\n",
              "    <tr>\n",
              "      <th>count</th>\n",
              "      <td>2.305300e+04</td>\n",
              "      <td>23053.000000</td>\n",
              "      <td>23053.000000</td>\n",
              "      <td>23053.000000</td>\n",
              "      <td>23053.000000</td>\n",
              "      <td>23053.000000</td>\n",
              "      <td>23053.000000</td>\n",
              "      <td>23053.000000</td>\n",
              "    </tr>\n",
              "    <tr>\n",
              "      <th>mean</th>\n",
              "      <td>5.007348e+10</td>\n",
              "      <td>271021.746497</td>\n",
              "      <td>6.149091</td>\n",
              "      <td>3.763632</td>\n",
              "      <td>2.432395</td>\n",
              "      <td>636.369713</td>\n",
              "      <td>248.667192</td>\n",
              "      <td>2107.308002</td>\n",
              "    </tr>\n",
              "    <tr>\n",
              "      <th>std</th>\n",
              "      <td>2.898194e+10</td>\n",
              "      <td>2431.692059</td>\n",
              "      <td>3.726372</td>\n",
              "      <td>1.677016</td>\n",
              "      <td>2.268406</td>\n",
              "      <td>622.363498</td>\n",
              "      <td>187.177773</td>\n",
              "      <td>2507.561264</td>\n",
              "    </tr>\n",
              "    <tr>\n",
              "      <th>min</th>\n",
              "      <td>3.268991e+06</td>\n",
              "      <td>266783.000000</td>\n",
              "      <td>1.000000</td>\n",
              "      <td>1.000000</td>\n",
              "      <td>-5.000000</td>\n",
              "      <td>-1499.000000</td>\n",
              "      <td>7.350000</td>\n",
              "      <td>-8270.925000</td>\n",
              "    </tr>\n",
              "    <tr>\n",
              "      <th>25%</th>\n",
              "      <td>2.493864e+10</td>\n",
              "      <td>268935.000000</td>\n",
              "      <td>3.000000</td>\n",
              "      <td>2.000000</td>\n",
              "      <td>1.000000</td>\n",
              "      <td>312.000000</td>\n",
              "      <td>98.280000</td>\n",
              "      <td>762.450000</td>\n",
              "    </tr>\n",
              "    <tr>\n",
              "      <th>50%</th>\n",
              "      <td>5.009313e+10</td>\n",
              "      <td>270980.000000</td>\n",
              "      <td>5.000000</td>\n",
              "      <td>4.000000</td>\n",
              "      <td>3.000000</td>\n",
              "      <td>710.000000</td>\n",
              "      <td>199.080000</td>\n",
              "      <td>1754.740000</td>\n",
              "    </tr>\n",
              "    <tr>\n",
              "      <th>75%</th>\n",
              "      <td>7.533000e+10</td>\n",
              "      <td>273114.000000</td>\n",
              "      <td>10.000000</td>\n",
              "      <td>5.000000</td>\n",
              "      <td>4.000000</td>\n",
              "      <td>1109.000000</td>\n",
              "      <td>365.715000</td>\n",
              "      <td>3569.150000</td>\n",
              "    </tr>\n",
              "    <tr>\n",
              "      <th>max</th>\n",
              "      <td>9.998755e+10</td>\n",
              "      <td>275265.000000</td>\n",
              "      <td>12.000000</td>\n",
              "      <td>6.000000</td>\n",
              "      <td>5.000000</td>\n",
              "      <td>1500.000000</td>\n",
              "      <td>787.500000</td>\n",
              "      <td>8287.500000</td>\n",
              "    </tr>\n",
              "  </tbody>\n",
              "</table>\n",
              "</div>"
            ],
            "text/plain": [
              "       transaction_id        cust_id  prod_sub_cat_code  prod_cat_code  \\\n",
              "count    2.305300e+04   23053.000000       23053.000000   23053.000000   \n",
              "mean     5.007348e+10  271021.746497           6.149091       3.763632   \n",
              "std      2.898194e+10    2431.692059           3.726372       1.677016   \n",
              "min      3.268991e+06  266783.000000           1.000000       1.000000   \n",
              "25%      2.493864e+10  268935.000000           3.000000       2.000000   \n",
              "50%      5.009313e+10  270980.000000           5.000000       4.000000   \n",
              "75%      7.533000e+10  273114.000000          10.000000       5.000000   \n",
              "max      9.998755e+10  275265.000000          12.000000       6.000000   \n",
              "\n",
              "                Qty          Rate           Tax     total_amt  \n",
              "count  23053.000000  23053.000000  23053.000000  23053.000000  \n",
              "mean       2.432395    636.369713    248.667192   2107.308002  \n",
              "std        2.268406    622.363498    187.177773   2507.561264  \n",
              "min       -5.000000  -1499.000000      7.350000  -8270.925000  \n",
              "25%        1.000000    312.000000     98.280000    762.450000  \n",
              "50%        3.000000    710.000000    199.080000   1754.740000  \n",
              "75%        4.000000   1109.000000    365.715000   3569.150000  \n",
              "max        5.000000   1500.000000    787.500000   8287.500000  "
            ]
          },
          "execution_count": 21,
          "metadata": {},
          "output_type": "execute_result"
        }
      ],
      "source": [
        "Transactions_df.describe()"
      ]
    },
    {
      "cell_type": "code",
      "execution_count": 22,
      "metadata": {
        "colab": {
          "base_uri": "https://localhost:8080/"
        },
        "id": "h5Ugkmd68DKe",
        "outputId": "4d695a24-f338-4880-faf4-65600950f4aa"
      },
      "outputs": [
        {
          "name": "stdout",
          "output_type": "stream",
          "text": [
            "Total unique cust_id :  5506\n",
            "Total unique prod_cat_code :  6\n",
            "Total unique prod_subcat_code :  12\n"
          ]
        }
      ],
      "source": [
        "print('Total unique cust_id : ',Transactions_df['cust_id'].unique().shape[0])\n",
        "print('Total unique prod_cat_code : ',Transactions_df['prod_cat_code'].unique().shape[0])\n",
        "print('Total unique prod_subcat_code : ',Transactions_df['prod_sub_cat_code'].unique().shape[0])"
      ]
    },
    {
      "cell_type": "code",
      "execution_count": 23,
      "metadata": {
        "colab": {
          "base_uri": "https://localhost:8080/",
          "height": 430
        },
        "id": "Wa3vHrJqexp6",
        "outputId": "4acaddde-1a27-4fd8-c02f-544914090866"
      },
      "outputs": [
        {
          "data": {
            "image/png": "[encoded data removed]",
            "text/plain": [
              "<Figure size 640x480 with 1 Axes>"
            ]
          },
          "metadata": {},
          "output_type": "display_data"
        }
      ],
      "source": [
        "Transactions_df.groupby('Store_type').size().plot(kind='barh', color=sns.palettes.mpl_palette('Dark2'))\n",
        "plt.gca().spines[['top', 'right',]].set_visible(False)"
      ]
    },
    {
      "cell_type": "code",
      "execution_count": 24,
      "metadata": {
        "colab": {
          "base_uri": "https://localhost:8080/",
          "height": 653
        },
        "id": "6zH2AcBceEt7",
        "outputId": "5389255e-30ec-45de-c2f6-467ae35729a0"
      },
      "outputs": [
        {
          "data": {
            "text/plain": [
              "<Axes: xlabel='Qty', ylabel='Count'>"
            ]
          },
          "execution_count": 24,
          "metadata": {},
          "output_type": "execute_result"
        },
        {
          "data": {
            "image/png": "[encoded data removed]",
            "text/plain": [
              "<Figure size 640x480 with 1 Axes>"
            ]
          },
          "metadata": {},
          "output_type": "display_data"
        }
      ],
      "source": [
        "# prompt: Qty distibution plot\n",
        "\n",
        "sns.histplot(Transactions_df['Qty'], color='g', bins=100, kde=True, alpha=0.5)\n"
      ]
    },
    {
      "cell_type": "code",
      "execution_count": 25,
      "metadata": {
        "colab": {
          "base_uri": "https://localhost:8080/"
        },
        "id": "0kVH4zhDeEzF",
        "outputId": "d4bd4707-80b2-43c8-ca45-3294f33b1cfc"
      },
      "outputs": [
        {
          "name": "stdout",
          "output_type": "stream",
          "text": [
            "Qty\n",
            " 5    4259\n",
            " 1    4214\n",
            " 3    4174\n",
            " 2    4123\n",
            " 4    4106\n",
            "-4     458\n",
            "-5     457\n",
            "-2     438\n",
            "-1     419\n",
            "-3     405\n",
            "Name: count, dtype: int64\n"
          ]
        }
      ],
      "source": [
        "# Quntity value counts\n",
        "Total_unique_Qty_value_counts=Transactions_df['Qty'].value_counts().sort_values(ascending=False)\n",
        "print(Total_unique_Qty_value_counts)"
      ]
    },
    {
      "cell_type": "code",
      "execution_count": 26,
      "metadata": {
        "colab": {
          "base_uri": "https://localhost:8080/",
          "height": 430
        },
        "id": "zS7TI9BysViX",
        "outputId": "b290b936-cb6f-46f5-83ed-0751d1ef9bfc"
      },
      "outputs": [
        {
          "data": {
            "image/png": "[encoded data removed]",
            "text/plain": [
              "<Figure size 640x480 with 1 Axes>"
            ]
          },
          "metadata": {},
          "output_type": "display_data"
        }
      ],
      "source": [
        "# Quntity bar chart\n",
        "Total_unique_Qty_value_counts.plot(kind='barh', color=sns.palettes.mpl_palette('Dark2'))\n",
        "plt.gca().spines[['top', 'right',]].set_visible(False)"
      ]
    },
    {
      "cell_type": "markdown",
      "metadata": {
        "id": "hv_igdX1p1PN"
      },
      "source": [
        "High sales but low returns for some products: 5 sells well with low returns, 1 & 3 similar, 2 & 4 have low sales but high returns."
      ]
    },
    {
      "cell_type": "code",
      "execution_count": 27,
      "metadata": {
        "colab": {
          "base_uri": "https://localhost:8080/"
        },
        "id": "eWIKWRgPj1Qw",
        "outputId": "2d34f36a-9bf6-4d24-9e22-6469f4e23cdd"
      },
      "outputs": [
        {
          "name": "stdout",
          "output_type": "stream",
          "text": [
            "Total count: 23053\n",
            "Positive Quantity count: 20876\n",
            "Negative Quantity count: 2177\n",
            "Here Negative indicates the return of the product\n"
          ]
        }
      ],
      "source": [
        "# count of quntity total pasitive & negative\n",
        "total_count = Transactions_df['Qty'].count()\n",
        "positive_count = Transactions_df[Transactions_df['Qty'] > 0]['Qty'].count()\n",
        "negative_count = Transactions_df[Transactions_df['Qty'] < 0]['Qty'].count()\n",
        "\n",
        "print(\"Total count:\", total_count)\n",
        "print(\"Positive Quantity count:\", positive_count)\n",
        "print(\"Negative Quantity count:\", negative_count)\n",
        "print(\"Here Negative indicates the return of the product\")"
      ]
    },
    {
      "cell_type": "code",
      "execution_count": 28,
      "metadata": {
        "colab": {
          "base_uri": "https://localhost:8080/",
          "height": 571
        },
        "id": "zmlRwy7q0rK_",
        "outputId": "cb35f885-155a-43e4-c8d3-c941e60eb10b"
      },
      "outputs": [
        {
          "data": {
            "image/png": "[encoded data removed]",
            "text/plain": [
              "<Figure size 1000x600 with 1 Axes>"
            ]
          },
          "metadata": {},
          "output_type": "display_data"
        }
      ],
      "source": [
        "# Create the data\n",
        "labels = [\"Total Transaction\", \"Success Order\",\"Return\"]\n",
        "values = [total_count, positive_count, negative_count]\n",
        "\n",
        "# Create the figure and axes\n",
        "fig, ax = plt.subplots(figsize=(10, 6))\n",
        "\n",
        "# Create the bar chart\n",
        "ax.bar(labels, values, color=['orange', 'green', 'red'])\n",
        "\n",
        "# Add value labels on top of the bars\n",
        "for i, value in enumerate(values):\n",
        "    percentage = (value / total_count) * 100\n",
        "    ax.annotate(f\"{percentage:.2f}%\", xy=(i, value - 50), ha='center', va='bottom')\n",
        "\n",
        "# Set the title and axis labels\n",
        "ax.set_title(\"Comparison of Success Order and Return\", fontsize=16)\n",
        "ax.set_xlabel(\"Category\", fontsize=14)\n",
        "ax.set_ylabel(\"Count\", fontsize=14)\n",
        "\n",
        "# Show the plot\n",
        "plt.show()\n"
      ]
    },
    {
      "cell_type": "code",
      "execution_count": 29,
      "metadata": {
        "colab": {
          "base_uri": "https://localhost:8080/",
          "height": 419
        },
        "id": "gzjZMX2Klo1F",
        "outputId": "2d6ef62c-c82e-4093-d26a-4d3865ae979b"
      },
      "outputs": [
        {
          "data": {
            "text/html": [
              "<div>\n",
              "<style scoped>\n",
              "    .dataframe tbody tr th:only-of-type {\n",
              "        vertical-align: middle;\n",
              "    }\n",
              "\n",
              "    .dataframe tbody tr th {\n",
              "        vertical-align: top;\n",
              "    }\n",
              "\n",
              "    .dataframe thead th {\n",
              "        text-align: right;\n",
              "    }\n",
              "</style>\n",
              "<table border=\"1\" class=\"dataframe\">\n",
              "  <thead>\n",
              "    <tr style=\"text-align: right;\">\n",
              "      <th></th>\n",
              "      <th>cust_id</th>\n",
              "      <th>DOB</th>\n",
              "      <th>Gender</th>\n",
              "      <th>city_code</th>\n",
              "      <th>Age</th>\n",
              "    </tr>\n",
              "  </thead>\n",
              "  <tbody>\n",
              "    <tr>\n",
              "      <th>0</th>\n",
              "      <td>268408</td>\n",
              "      <td>1970-01-02</td>\n",
              "      <td>Male</td>\n",
              "      <td>4.0</td>\n",
              "      <td>55</td>\n",
              "    </tr>\n",
              "    <tr>\n",
              "      <th>1</th>\n",
              "      <td>269696</td>\n",
              "      <td>1970-01-07</td>\n",
              "      <td>Female</td>\n",
              "      <td>8.0</td>\n",
              "      <td>55</td>\n",
              "    </tr>\n",
              "    <tr>\n",
              "      <th>2</th>\n",
              "      <td>268159</td>\n",
              "      <td>1970-01-08</td>\n",
              "      <td>Female</td>\n",
              "      <td>8.0</td>\n",
              "      <td>55</td>\n",
              "    </tr>\n",
              "    <tr>\n",
              "      <th>3</th>\n",
              "      <td>270181</td>\n",
              "      <td>1970-01-10</td>\n",
              "      <td>Female</td>\n",
              "      <td>2.0</td>\n",
              "      <td>55</td>\n",
              "    </tr>\n",
              "    <tr>\n",
              "      <th>4</th>\n",
              "      <td>268073</td>\n",
              "      <td>1970-01-11</td>\n",
              "      <td>Male</td>\n",
              "      <td>1.0</td>\n",
              "      <td>55</td>\n",
              "    </tr>\n",
              "    <tr>\n",
              "      <th>...</th>\n",
              "      <td>...</td>\n",
              "      <td>...</td>\n",
              "      <td>...</td>\n",
              "      <td>...</td>\n",
              "      <td>...</td>\n",
              "    </tr>\n",
              "    <tr>\n",
              "      <th>5642</th>\n",
              "      <td>274474</td>\n",
              "      <td>1992-12-19</td>\n",
              "      <td>Male</td>\n",
              "      <td>2.0</td>\n",
              "      <td>32</td>\n",
              "    </tr>\n",
              "    <tr>\n",
              "      <th>5643</th>\n",
              "      <td>267666</td>\n",
              "      <td>1992-12-24</td>\n",
              "      <td>Male</td>\n",
              "      <td>6.0</td>\n",
              "      <td>32</td>\n",
              "    </tr>\n",
              "    <tr>\n",
              "      <th>5644</th>\n",
              "      <td>270476</td>\n",
              "      <td>1992-12-25</td>\n",
              "      <td>Female</td>\n",
              "      <td>3.0</td>\n",
              "      <td>32</td>\n",
              "    </tr>\n",
              "    <tr>\n",
              "      <th>5645</th>\n",
              "      <td>269626</td>\n",
              "      <td>1992-12-27</td>\n",
              "      <td>Female</td>\n",
              "      <td>5.0</td>\n",
              "      <td>32</td>\n",
              "    </tr>\n",
              "    <tr>\n",
              "      <th>5646</th>\n",
              "      <td>274308</td>\n",
              "      <td>1992-12-29</td>\n",
              "      <td>Female</td>\n",
              "      <td>5.0</td>\n",
              "      <td>32</td>\n",
              "    </tr>\n",
              "  </tbody>\n",
              "</table>\n",
              "<p>5647 rows × 5 columns</p>\n",
              "</div>"
            ],
            "text/plain": [
              "      cust_id        DOB  Gender  city_code  Age\n",
              "0      268408 1970-01-02    Male        4.0   55\n",
              "1      269696 1970-01-07  Female        8.0   55\n",
              "2      268159 1970-01-08  Female        8.0   55\n",
              "3      270181 1970-01-10  Female        2.0   55\n",
              "4      268073 1970-01-11    Male        1.0   55\n",
              "...       ...        ...     ...        ...  ...\n",
              "5642   274474 1992-12-19    Male        2.0   32\n",
              "5643   267666 1992-12-24    Male        6.0   32\n",
              "5644   270476 1992-12-25  Female        3.0   32\n",
              "5645   269626 1992-12-27  Female        5.0   32\n",
              "5646   274308 1992-12-29  Female        5.0   32\n",
              "\n",
              "[5647 rows x 5 columns]"
            ]
          },
          "execution_count": 29,
          "metadata": {},
          "output_type": "execute_result"
        }
      ],
      "source": [
        "customers_df"
      ]
    },
    {
      "cell_type": "markdown",
      "metadata": {
        "id": "y6i0Ern8nlmZ"
      },
      "source": [
        "## **Joining customers and transactions**"
      ]
    },
    {
      "cell_type": "code",
      "execution_count": 30,
      "metadata": {
        "colab": {
          "base_uri": "https://localhost:8080/",
          "height": 609
        },
        "id": "YDXxCHArlo4T",
        "outputId": "29774adf-e6f8-4fed-dbd1-a2eacd83fc67"
      },
      "outputs": [
        {
          "data": {
            "text/html": [
              "<div>\n",
              "<style scoped>\n",
              "    .dataframe tbody tr th:only-of-type {\n",
              "        vertical-align: middle;\n",
              "    }\n",
              "\n",
              "    .dataframe tbody tr th {\n",
              "        vertical-align: top;\n",
              "    }\n",
              "\n",
              "    .dataframe thead th {\n",
              "        text-align: right;\n",
              "    }\n",
              "</style>\n",
              "<table border=\"1\" class=\"dataframe\">\n",
              "  <thead>\n",
              "    <tr style=\"text-align: right;\">\n",
              "      <th></th>\n",
              "      <th>transaction_id</th>\n",
              "      <th>cust_id</th>\n",
              "      <th>tran_date</th>\n",
              "      <th>prod_sub_cat_code</th>\n",
              "      <th>prod_cat_code</th>\n",
              "      <th>Qty</th>\n",
              "      <th>Rate</th>\n",
              "      <th>Tax</th>\n",
              "      <th>total_amt</th>\n",
              "      <th>Store_type</th>\n",
              "      <th>prod_cat</th>\n",
              "      <th>prod_subcat</th>\n",
              "      <th>prod_cat_subcat</th>\n",
              "      <th>DOB</th>\n",
              "      <th>Gender</th>\n",
              "      <th>city_code</th>\n",
              "      <th>Age</th>\n",
              "    </tr>\n",
              "  </thead>\n",
              "  <tbody>\n",
              "    <tr>\n",
              "      <th>0</th>\n",
              "      <td>80712190438</td>\n",
              "      <td>270351</td>\n",
              "      <td>28-02-2014</td>\n",
              "      <td>1</td>\n",
              "      <td>1</td>\n",
              "      <td>-5</td>\n",
              "      <td>-772</td>\n",
              "      <td>405.300</td>\n",
              "      <td>-4265.300</td>\n",
              "      <td>e-Shop</td>\n",
              "      <td>Clothing</td>\n",
              "      <td>Mens</td>\n",
              "      <td>Clothing Mens</td>\n",
              "      <td>1981-09-26</td>\n",
              "      <td>Male</td>\n",
              "      <td>5.0</td>\n",
              "      <td>43</td>\n",
              "    </tr>\n",
              "    <tr>\n",
              "      <th>1</th>\n",
              "      <td>29258453508</td>\n",
              "      <td>270384</td>\n",
              "      <td>27-02-2014</td>\n",
              "      <td>5</td>\n",
              "      <td>3</td>\n",
              "      <td>-5</td>\n",
              "      <td>-1497</td>\n",
              "      <td>785.925</td>\n",
              "      <td>-8270.925</td>\n",
              "      <td>e-Shop</td>\n",
              "      <td>Electronics</td>\n",
              "      <td>Computers</td>\n",
              "      <td>Electronics Computers</td>\n",
              "      <td>1973-05-11</td>\n",
              "      <td>Female</td>\n",
              "      <td>8.0</td>\n",
              "      <td>51</td>\n",
              "    </tr>\n",
              "    <tr>\n",
              "      <th>2</th>\n",
              "      <td>51750724947</td>\n",
              "      <td>273420</td>\n",
              "      <td>24-02-2014</td>\n",
              "      <td>6</td>\n",
              "      <td>5</td>\n",
              "      <td>-2</td>\n",
              "      <td>-791</td>\n",
              "      <td>166.110</td>\n",
              "      <td>-1748.110</td>\n",
              "      <td>TeleShop</td>\n",
              "      <td>Books</td>\n",
              "      <td>DIY</td>\n",
              "      <td>Books DIY</td>\n",
              "      <td>1992-07-27</td>\n",
              "      <td>Male</td>\n",
              "      <td>8.0</td>\n",
              "      <td>32</td>\n",
              "    </tr>\n",
              "    <tr>\n",
              "      <th>3</th>\n",
              "      <td>93274880719</td>\n",
              "      <td>271509</td>\n",
              "      <td>24-02-2014</td>\n",
              "      <td>11</td>\n",
              "      <td>6</td>\n",
              "      <td>-3</td>\n",
              "      <td>-1363</td>\n",
              "      <td>429.345</td>\n",
              "      <td>-4518.345</td>\n",
              "      <td>e-Shop</td>\n",
              "      <td>Home and kitchen</td>\n",
              "      <td>Bath</td>\n",
              "      <td>Home and kitchen Bath</td>\n",
              "      <td>1981-06-08</td>\n",
              "      <td>Male</td>\n",
              "      <td>3.0</td>\n",
              "      <td>43</td>\n",
              "    </tr>\n",
              "    <tr>\n",
              "      <th>4</th>\n",
              "      <td>51750724947</td>\n",
              "      <td>273420</td>\n",
              "      <td>23-02-2014</td>\n",
              "      <td>6</td>\n",
              "      <td>5</td>\n",
              "      <td>-2</td>\n",
              "      <td>-791</td>\n",
              "      <td>166.110</td>\n",
              "      <td>-1748.110</td>\n",
              "      <td>TeleShop</td>\n",
              "      <td>Books</td>\n",
              "      <td>DIY</td>\n",
              "      <td>Books DIY</td>\n",
              "      <td>1992-07-27</td>\n",
              "      <td>Male</td>\n",
              "      <td>8.0</td>\n",
              "      <td>32</td>\n",
              "    </tr>\n",
              "  </tbody>\n",
              "</table>\n",
              "</div>"
            ],
            "text/plain": [
              "   transaction_id  cust_id   tran_date  prod_sub_cat_code  prod_cat_code  Qty  \\\n",
              "0     80712190438   270351  28-02-2014                  1              1   -5   \n",
              "1     29258453508   270384  27-02-2014                  5              3   -5   \n",
              "2     51750724947   273420  24-02-2014                  6              5   -2   \n",
              "3     93274880719   271509  24-02-2014                 11              6   -3   \n",
              "4     51750724947   273420  23-02-2014                  6              5   -2   \n",
              "\n",
              "   Rate      Tax  total_amt Store_type          prod_cat prod_subcat  \\\n",
              "0  -772  405.300  -4265.300     e-Shop          Clothing        Mens   \n",
              "1 -1497  785.925  -8270.925     e-Shop       Electronics   Computers   \n",
              "2  -791  166.110  -1748.110   TeleShop             Books         DIY   \n",
              "3 -1363  429.345  -4518.345     e-Shop  Home and kitchen        Bath   \n",
              "4  -791  166.110  -1748.110   TeleShop             Books         DIY   \n",
              "\n",
              "         prod_cat_subcat        DOB  Gender  city_code  Age  \n",
              "0          Clothing Mens 1981-09-26    Male        5.0   43  \n",
              "1  Electronics Computers 1973-05-11  Female        8.0   51  \n",
              "2              Books DIY 1992-07-27    Male        8.0   32  \n",
              "3  Home and kitchen Bath 1981-06-08    Male        3.0   43  \n",
              "4              Books DIY 1992-07-27    Male        8.0   32  "
            ]
          },
          "execution_count": 30,
          "metadata": {},
          "output_type": "execute_result"
        }
      ],
      "source": [
        "final_df = pd.merge(Transactions_df, customers_df, on='cust_id', how='left')\n",
        "final_df.head()"
      ]
    },
    {
      "cell_type": "code",
      "execution_count": 31,
      "metadata": {
        "colab": {
          "base_uri": "https://localhost:8080/"
        },
        "id": "1MtirOmJlo7a",
        "outputId": "5c020329-35de-44d3-ed3a-a3aa88482120"
      },
      "outputs": [
        {
          "name": "stdout",
          "output_type": "stream",
          "text": [
            "<class 'pandas.core.frame.DataFrame'>\n",
            "RangeIndex: 23053 entries, 0 to 23052\n",
            "Data columns (total 17 columns):\n",
            " #   Column             Non-Null Count  Dtype         \n",
            "---  ------             --------------  -----         \n",
            " 0   transaction_id     23053 non-null  int64         \n",
            " 1   cust_id            23053 non-null  int64         \n",
            " 2   tran_date          23053 non-null  object        \n",
            " 3   prod_sub_cat_code  23053 non-null  int64         \n",
            " 4   prod_cat_code      23053 non-null  int64         \n",
            " 5   Qty                23053 non-null  int64         \n",
            " 6   Rate               23053 non-null  int64         \n",
            " 7   Tax                23053 non-null  float64       \n",
            " 8   total_amt          23053 non-null  float64       \n",
            " 9   Store_type         23053 non-null  object        \n",
            " 10  prod_cat           23053 non-null  object        \n",
            " 11  prod_subcat        23053 non-null  object        \n",
            " 12  prod_cat_subcat    23053 non-null  object        \n",
            " 13  DOB                23053 non-null  datetime64[ns]\n",
            " 14  Gender             23053 non-null  object        \n",
            " 15  city_code          23053 non-null  float64       \n",
            " 16  Age                23053 non-null  int64         \n",
            "dtypes: datetime64[ns](1), float64(3), int64(7), object(6)\n",
            "memory usage: 3.0+ MB\n"
          ]
        }
      ],
      "source": [
        "final_df.info()"
      ]
    },
    {
      "cell_type": "markdown",
      "metadata": {
        "id": "3KXl80zwn_A1"
      },
      "source": [
        "## **Removing Unwanted columns**"
      ]
    },
    {
      "cell_type": "code",
      "execution_count": 32,
      "metadata": {
        "colab": {
          "base_uri": "https://localhost:8080/",
          "height": 419
        },
        "id": "32zIN1SWD3MG",
        "outputId": "4e734e5c-8396-47ac-9576-2ec4845024cf"
      },
      "outputs": [
        {
          "data": {
            "text/html": [
              "<div>\n",
              "<style scoped>\n",
              "    .dataframe tbody tr th:only-of-type {\n",
              "        vertical-align: middle;\n",
              "    }\n",
              "\n",
              "    .dataframe tbody tr th {\n",
              "        vertical-align: top;\n",
              "    }\n",
              "\n",
              "    .dataframe thead th {\n",
              "        text-align: right;\n",
              "    }\n",
              "</style>\n",
              "<table border=\"1\" class=\"dataframe\">\n",
              "  <thead>\n",
              "    <tr style=\"text-align: right;\">\n",
              "      <th></th>\n",
              "      <th>cust_id</th>\n",
              "      <th>Qty</th>\n",
              "      <th>Store_type</th>\n",
              "      <th>prod_cat_subcat</th>\n",
              "      <th>Gender</th>\n",
              "      <th>city_code</th>\n",
              "      <th>Age</th>\n",
              "    </tr>\n",
              "  </thead>\n",
              "  <tbody>\n",
              "    <tr>\n",
              "      <th>0</th>\n",
              "      <td>270351</td>\n",
              "      <td>-5</td>\n",
              "      <td>e-Shop</td>\n",
              "      <td>Clothing Mens</td>\n",
              "      <td>Male</td>\n",
              "      <td>5.0</td>\n",
              "      <td>43</td>\n",
              "    </tr>\n",
              "    <tr>\n",
              "      <th>1</th>\n",
              "      <td>270384</td>\n",
              "      <td>-5</td>\n",
              "      <td>e-Shop</td>\n",
              "      <td>Electronics Computers</td>\n",
              "      <td>Female</td>\n",
              "      <td>8.0</td>\n",
              "      <td>51</td>\n",
              "    </tr>\n",
              "    <tr>\n",
              "      <th>2</th>\n",
              "      <td>273420</td>\n",
              "      <td>-2</td>\n",
              "      <td>TeleShop</td>\n",
              "      <td>Books DIY</td>\n",
              "      <td>Male</td>\n",
              "      <td>8.0</td>\n",
              "      <td>32</td>\n",
              "    </tr>\n",
              "    <tr>\n",
              "      <th>3</th>\n",
              "      <td>271509</td>\n",
              "      <td>-3</td>\n",
              "      <td>e-Shop</td>\n",
              "      <td>Home and kitchen Bath</td>\n",
              "      <td>Male</td>\n",
              "      <td>3.0</td>\n",
              "      <td>43</td>\n",
              "    </tr>\n",
              "    <tr>\n",
              "      <th>4</th>\n",
              "      <td>273420</td>\n",
              "      <td>-2</td>\n",
              "      <td>TeleShop</td>\n",
              "      <td>Books DIY</td>\n",
              "      <td>Male</td>\n",
              "      <td>8.0</td>\n",
              "      <td>32</td>\n",
              "    </tr>\n",
              "  </tbody>\n",
              "</table>\n",
              "</div>"
            ],
            "text/plain": [
              "   cust_id  Qty Store_type        prod_cat_subcat  Gender  city_code  Age\n",
              "0   270351   -5     e-Shop          Clothing Mens    Male        5.0   43\n",
              "1   270384   -5     e-Shop  Electronics Computers  Female        8.0   51\n",
              "2   273420   -2   TeleShop              Books DIY    Male        8.0   32\n",
              "3   271509   -3     e-Shop  Home and kitchen Bath    Male        3.0   43\n",
              "4   273420   -2   TeleShop              Books DIY    Male        8.0   32"
            ]
          },
          "execution_count": 32,
          "metadata": {},
          "output_type": "execute_result"
        }
      ],
      "source": [
        "final_df=final_df.drop(columns=['transaction_id','tran_date','Rate','Tax','total_amt','DOB','prod_cat_code','prod_sub_cat_code','prod_cat','prod_subcat'])\n",
        "final_df.head()"
      ]
    },
    {
      "cell_type": "markdown",
      "metadata": {
        "id": "fEb78POVoX5D"
      },
      "source": [
        "## **Removing Dublicate Rows**"
      ]
    },
    {
      "cell_type": "code",
      "execution_count": 33,
      "metadata": {
        "colab": {
          "base_uri": "https://localhost:8080/"
        },
        "id": "SawL0bfTyRGZ",
        "outputId": "39190a05-3338-405b-9596-cd8b736d7046"
      },
      "outputs": [
        {
          "name": "stdout",
          "output_type": "stream",
          "text": [
            "Number of duplicate rows: 197\n",
            "Duplicate Row after removing 0\n"
          ]
        },
        {
          "data": {
            "text/html": [
              "<div>\n",
              "<style scoped>\n",
              "    .dataframe tbody tr th:only-of-type {\n",
              "        vertical-align: middle;\n",
              "    }\n",
              "\n",
              "    .dataframe tbody tr th {\n",
              "        vertical-align: top;\n",
              "    }\n",
              "\n",
              "    .dataframe thead th {\n",
              "        text-align: right;\n",
              "    }\n",
              "</style>\n",
              "<table border=\"1\" class=\"dataframe\">\n",
              "  <thead>\n",
              "    <tr style=\"text-align: right;\">\n",
              "      <th></th>\n",
              "      <th>cust_id</th>\n",
              "      <th>Qty</th>\n",
              "      <th>Store_type</th>\n",
              "      <th>prod_cat_subcat</th>\n",
              "      <th>Gender</th>\n",
              "      <th>city_code</th>\n",
              "      <th>Age</th>\n",
              "    </tr>\n",
              "  </thead>\n",
              "  <tbody>\n",
              "    <tr>\n",
              "      <th>0</th>\n",
              "      <td>270351</td>\n",
              "      <td>-5</td>\n",
              "      <td>e-Shop</td>\n",
              "      <td>Clothing Mens</td>\n",
              "      <td>Male</td>\n",
              "      <td>5.0</td>\n",
              "      <td>43</td>\n",
              "    </tr>\n",
              "    <tr>\n",
              "      <th>1</th>\n",
              "      <td>270384</td>\n",
              "      <td>-5</td>\n",
              "      <td>e-Shop</td>\n",
              "      <td>Electronics Computers</td>\n",
              "      <td>Female</td>\n",
              "      <td>8.0</td>\n",
              "      <td>51</td>\n",
              "    </tr>\n",
              "    <tr>\n",
              "      <th>2</th>\n",
              "      <td>273420</td>\n",
              "      <td>-2</td>\n",
              "      <td>TeleShop</td>\n",
              "      <td>Books DIY</td>\n",
              "      <td>Male</td>\n",
              "      <td>8.0</td>\n",
              "      <td>32</td>\n",
              "    </tr>\n",
              "    <tr>\n",
              "      <th>3</th>\n",
              "      <td>271509</td>\n",
              "      <td>-3</td>\n",
              "      <td>e-Shop</td>\n",
              "      <td>Home and kitchen Bath</td>\n",
              "      <td>Male</td>\n",
              "      <td>3.0</td>\n",
              "      <td>43</td>\n",
              "    </tr>\n",
              "    <tr>\n",
              "      <th>4</th>\n",
              "      <td>272357</td>\n",
              "      <td>-2</td>\n",
              "      <td>TeleShop</td>\n",
              "      <td>Electronics Personal Appliances</td>\n",
              "      <td>Female</td>\n",
              "      <td>6.0</td>\n",
              "      <td>42</td>\n",
              "    </tr>\n",
              "  </tbody>\n",
              "</table>\n",
              "</div>"
            ],
            "text/plain": [
              "   cust_id  Qty Store_type                  prod_cat_subcat  Gender  \\\n",
              "0   270351   -5     e-Shop                    Clothing Mens    Male   \n",
              "1   270384   -5     e-Shop            Electronics Computers  Female   \n",
              "2   273420   -2   TeleShop                        Books DIY    Male   \n",
              "3   271509   -3     e-Shop            Home and kitchen Bath    Male   \n",
              "4   272357   -2   TeleShop  Electronics Personal Appliances  Female   \n",
              "\n",
              "   city_code  Age  \n",
              "0        5.0   43  \n",
              "1        8.0   51  \n",
              "2        8.0   32  \n",
              "3        3.0   43  \n",
              "4        6.0   42  "
            ]
          },
          "execution_count": 33,
          "metadata": {},
          "output_type": "execute_result"
        }
      ],
      "source": [
        "duplicate_rows = final_df[final_df.duplicated()]\n",
        "print(\"Number of duplicate rows:\", duplicate_rows.shape[0])\n",
        "\n",
        "final_df = final_df.drop_duplicates()\n",
        "duplicate_rows = final_df[final_df.duplicated()]\n",
        "print(\"Duplicate Row after removing\",duplicate_rows.shape[0])\n",
        "\n",
        "final_df = final_df.reset_index(drop=True)\n",
        "final_df.head()"
      ]
    },
    {
      "cell_type": "markdown",
      "metadata": {},
      "source": [
        "## Saving the clean data to pickel file"
      ]
    },
    {
      "cell_type": "code",
      "execution_count": 34,
      "metadata": {},
      "outputs": [],
      "source": [
        "final_df.to_pickle(data_path+ 'prepared_data.pkl')"
      ]
    }
  ],
  "metadata": {
    "colab": {
      "provenance": []
    },
    "kernelspec": {
      "display_name": "Python [conda env:python_3_10_16]",
      "language": "python",
      "name": "conda-env-python_3_10_16-py"
    },
    "language_info": {
      "codemirror_mode": {
        "name": "ipython",
        "version": 3
      },
      "file_extension": ".py",
      "mimetype": "text/x-python",
      "name": "python",
      "nbconvert_exporter": "python",
      "pygments_lexer": "ipython3",
      "version": "3.10.13"
    }
  },
  "nbformat": 4,
  "nbformat_minor": 0
}
